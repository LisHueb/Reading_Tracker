{
 "cells": [
  {
   "cell_type": "code",
   "execution_count": 2,
   "metadata": {},
   "outputs": [
    {
     "data": {
      "text/html": [
       "<div>\n",
       "<style scoped>\n",
       "    .dataframe tbody tr th:only-of-type {\n",
       "        vertical-align: middle;\n",
       "    }\n",
       "\n",
       "    .dataframe tbody tr th {\n",
       "        vertical-align: top;\n",
       "    }\n",
       "\n",
       "    .dataframe thead th {\n",
       "        text-align: right;\n",
       "    }\n",
       "</style>\n",
       "<table border=\"1\" class=\"dataframe\">\n",
       "  <thead>\n",
       "    <tr style=\"text-align: right;\">\n",
       "      <th></th>\n",
       "      <th>title</th>\n",
       "      <th>author</th>\n",
       "      <th>number_of_pages</th>\n",
       "      <th>genre</th>\n",
       "      <th>url</th>\n",
       "      <th>finishing_date</th>\n",
       "      <th>rating</th>\n",
       "    </tr>\n",
       "  </thead>\n",
       "  <tbody>\n",
       "    <tr>\n",
       "      <th>0</th>\n",
       "      <td>Liebes Kind</td>\n",
       "      <td>Romy Hausmann</td>\n",
       "      <td>427</td>\n",
       "      <td>Thriller</td>\n",
       "      <td>https://covers.openlibrary.org/b/id/14571593-L...</td>\n",
       "      <td>2024-03-20</td>\n",
       "      <td>4.0</td>\n",
       "    </tr>\n",
       "  </tbody>\n",
       "</table>\n",
       "</div>"
      ],
      "text/plain": [
       "         title         author  number_of_pages     genre  \\\n",
       "0  Liebes Kind  Romy Hausmann              427  Thriller   \n",
       "\n",
       "                                                 url finishing_date  rating  \n",
       "0  https://covers.openlibrary.org/b/id/14571593-L...     2024-03-20     4.0  "
      ]
     },
     "execution_count": 2,
     "metadata": {},
     "output_type": "execute_result"
    }
   ],
   "source": [
    "import requests\n",
    "import pandas as pd\n",
    "\n",
    "# Enter data here:\n",
    "isbn = \"9783423218368\"\n",
    "genre = \"Thriller\"\n",
    "date = \"2024-03-20\"\n",
    "rating = 4.0     # x out of 5 stars\n",
    "\n",
    "\n",
    "def get_book_info(isbn):\n",
    "    url = f\"https://openlibrary.org/api/books?bibkeys=ISBN:{isbn}&format=json&jscmd=data\"\n",
    "    response = requests.get(url)\n",
    "    data = response.json()\n",
    "\n",
    "    # extract book info\n",
    "    book_info = data.get(f'ISBN:{isbn}', {})\n",
    "    title = book_info.get('title', 'N/A')\n",
    "    authors = \", \".join(author['name'] for author in book_info.get('authors', []))\n",
    "    number_of_pages = book_info.get('number_of_pages', 'N/A')\n",
    "    cover_url = book_info.get('cover', {}).get('large', 'N/A')\n",
    "\n",
    "    return title, authors, number_of_pages, cover_url\n",
    "\n",
    "# call book info\n",
    "book_info = get_book_info(isbn)\n",
    "\n",
    "# make dataframe\n",
    "data = {\n",
    "    \"title\": [book_info[0]],\n",
    "    \"author\": [book_info[1]],\n",
    "    \"number_of_pages\": [book_info[2]],\n",
    "    \"genre\": genre,\n",
    "    \"url\": [book_info[3]],\n",
    "    \"finishing_date\": pd.to_datetime(date),\n",
    "    \"rating\": rating\n",
    "}\n",
    "\n",
    "df = pd.DataFrame(data)\n",
    "\n",
    "\n",
    "# Check title available?\n",
    "if df.at[0, 'title'] == 'N/A':\n",
    "    value = input(\"Enter 'title' here: \")\n",
    "    df.at[0, 'title'] = value\n",
    "\n",
    "# Check author available?\n",
    "if df.at[0, 'author'] == 'N/A':\n",
    "    value = input(\"Enter 'author' here: \")\n",
    "    df.at[0, 'author'] = value\n",
    "\n",
    "# Check number of pages available?\n",
    "if df.at[0, 'number_of_pages'] == 'N/A':\n",
    "    value = input(\"Enter 'number_of_pages' here: \")\n",
    "    df.at[0, 'number_of_pages'] = value\n",
    "\n",
    "# Check book cover available?\n",
    "if df.at[0, 'url'] == 'N/A':\n",
    "    value = input(\"Enter 'url' here: \")    # takes local path\n",
    "    df.at[0, 'url'] = value\n",
    "\n",
    "    \n",
    "df"
   ]
  },
  {
   "cell_type": "code",
   "execution_count": 2,
   "metadata": {},
   "outputs": [
    {
     "name": "stdout",
     "output_type": "stream",
     "text": [
      "Data successfully loaded to staging table.\n"
     ]
    }
   ],
   "source": [
    "from sqlalchemy import create_engine\n",
    "import psycopg2\n",
    "\n",
    "# connect to database\n",
    "dbname = 'dbname'\n",
    "user = 'username'\n",
    "password = 'mypassword'\n",
    "host = 'host'  \n",
    "port = 'port'  \n",
    "\n",
    "engine = create_engine(f'postgresql://{user}:{password}@{host}:{port}/{dbname}')\n",
    "\n",
    "\n",
    "# load dataframe to staging table\n",
    "try:\n",
    "    df.to_sql('books_staging', con=engine, if_exists='append', index=False)\n",
    "    print(\"Data successfully loaded to staging table.\")\n",
    "except Exception as e:\n",
    "    print(f\"Error: {e}\")\n",
    "\n",
    "engine.dispose()\n"
   ]
  },
  {
   "cell_type": "code",
   "execution_count": null,
   "metadata": {},
   "outputs": [],
   "source": []
  },
  {
   "cell_type": "code",
   "execution_count": null,
   "metadata": {},
   "outputs": [],
   "source": []
  },
  {
   "cell_type": "code",
   "execution_count": null,
   "metadata": {},
   "outputs": [],
   "source": []
  },
  {
   "cell_type": "code",
   "execution_count": null,
   "metadata": {},
   "outputs": [],
   "source": []
  },
  {
   "cell_type": "code",
   "execution_count": null,
   "metadata": {},
   "outputs": [],
   "source": []
  },
  {
   "cell_type": "code",
   "execution_count": null,
   "metadata": {},
   "outputs": [],
   "source": []
  },
  {
   "cell_type": "code",
   "execution_count": null,
   "metadata": {},
   "outputs": [],
   "source": []
  },
  {
   "cell_type": "code",
   "execution_count": null,
   "metadata": {},
   "outputs": [],
   "source": []
  }
 ],
 "metadata": {
  "kernelspec": {
   "display_name": "Python 3 (ipykernel)",
   "language": "python",
   "name": "python3"
  },
  "language_info": {
   "codemirror_mode": {
    "name": "ipython",
    "version": 3
   },
   "file_extension": ".py",
   "mimetype": "text/x-python",
   "name": "python",
   "nbconvert_exporter": "python",
   "pygments_lexer": "ipython3",
   "version": "3.11.7"
  }
 },
 "nbformat": 4,
 "nbformat_minor": 4
}
